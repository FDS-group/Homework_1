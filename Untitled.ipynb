{
 "cells": [
  {
   "cell_type": "code",
   "execution_count": 3,
   "metadata": {},
   "outputs": [],
   "source": [
    "import numpy as np"
   ]
  },
  {
   "cell_type": "code",
   "execution_count": 4,
   "metadata": {},
   "outputs": [],
   "source": [
    "test = np.array([[1, 2, 4, 5, 6, 8, 6, 3, 5, 6, 8],\n",
    "       [5, 4, 7, 8, 9, 2, 3, 4, 6, 7, 1],\n",
    "       [4, 2, 6, 8, 5, 4, 3, 7, 0, 1, 2],\n",
    "       [3, 1, 5, 7, 6, 5, 4, 7, 8, 9, 6],\n",
    "       [1, 7, 8, 4, 3, 8, 9, 4, 3, 2, 1],\n",
    "       [7, 5, 9, 4, 3, 2, 6, 8, 6, 5, 3],\n",
    "       [7, 9, 3, 2, 6, 4, 1, 1, 3, 5, 6],\n",
    "       [1, 2, 4, 5, 6, 8, 6, 3, 5, 6, 8]])"
   ]
  },
  {
   "cell_type": "code",
   "execution_count": 3,
   "metadata": {},
   "outputs": [
    {
     "data": {
      "text/plain": [
       "array([[1, 2, 4, 5, 6, 8, 6, 3, 5, 6, 8],\n",
       "       [5, 4, 7, 8, 9, 2, 3, 4, 6, 7, 1],\n",
       "       [4, 2, 6, 8, 5, 4, 3, 7, 0, 1, 2],\n",
       "       [3, 1, 5, 7, 6, 5, 4, 7, 8, 9, 6],\n",
       "       [1, 7, 8, 4, 3, 8, 9, 4, 3, 2, 1],\n",
       "       [7, 5, 9, 4, 3, 2, 6, 8, 6, 5, 3],\n",
       "       [7, 9, 3, 2, 6, 4, 1, 1, 3, 5, 6],\n",
       "       [1, 2, 4, 5, 6, 8, 6, 3, 5, 6, 8]])"
      ]
     },
     "execution_count": 3,
     "metadata": {},
     "output_type": "execute_result"
    }
   ],
   "source": [
    "test"
   ]
  },
  {
   "cell_type": "code",
   "execution_count": 4,
   "metadata": {},
   "outputs": [],
   "source": [
    "kernel_1d = np.array([1, 0, 1])"
   ]
  },
  {
   "cell_type": "code",
   "execution_count": 7,
   "metadata": {},
   "outputs": [],
   "source": [
    "kernel_1d\n",
    "len_1d_kernel = len(kernel_1d)"
   ]
  },
  {
   "cell_type": "code",
   "execution_count": 14,
   "metadata": {},
   "outputs": [],
   "source": [
    "original_image_shape = test.shape\n",
    "num_kernel_1d_x_axis = original_image_shape[1] - len_1d_kernel + 1\n",
    "num_kernel_1d_y_axis = original_image_shape[0] - len_1d_kernel + 1"
   ]
  },
  {
   "cell_type": "code",
   "execution_count": 15,
   "metadata": {},
   "outputs": [
    {
     "data": {
      "text/plain": [
       "(8, 11)"
      ]
     },
     "execution_count": 15,
     "metadata": {},
     "output_type": "execute_result"
    }
   ],
   "source": [
    "original_image_shape"
   ]
  },
  {
   "cell_type": "code",
   "execution_count": 16,
   "metadata": {},
   "outputs": [
    {
     "data": {
      "text/plain": [
       "9"
      ]
     },
     "execution_count": 16,
     "metadata": {},
     "output_type": "execute_result"
    }
   ],
   "source": [
    "num_kernel_1d_x_axis"
   ]
  },
  {
   "cell_type": "code",
   "execution_count": 17,
   "metadata": {},
   "outputs": [
    {
     "data": {
      "text/plain": [
       "6"
      ]
     },
     "execution_count": 17,
     "metadata": {},
     "output_type": "execute_result"
    }
   ],
   "source": [
    "num_kernel_1d_y_axis"
   ]
  },
  {
   "cell_type": "code",
   "execution_count": 20,
   "metadata": {},
   "outputs": [],
   "source": [
    "convolution_1d_x_axis = []\n",
    "for i in range(original_image_shape[0]):\n",
    "    convolution_1d_x_axis.append(\n",
    "        [np.sum(kernel_1d * test[i, :][j:j + len(kernel_1d)]) for j in range(num_kernel_1d_x_axis)])"
   ]
  },
  {
   "cell_type": "code",
   "execution_count": 23,
   "metadata": {},
   "outputs": [
    {
     "data": {
      "text/plain": [
       "(8, 9)"
      ]
     },
     "execution_count": 23,
     "metadata": {},
     "output_type": "execute_result"
    }
   ],
   "source": [
    "np.array(convolution_1d_x_axis).shape"
   ]
  },
  {
   "cell_type": "code",
   "execution_count": 27,
   "metadata": {},
   "outputs": [
    {
     "data": {
      "text/plain": [
       "[[5, 7, 10, 13, 12, 11, 11, 9, 13],\n",
       " [12, 12, 16, 10, 12, 6, 9, 11, 7],\n",
       " [10, 10, 11, 12, 8, 11, 3, 8, 2],\n",
       " [8, 8, 11, 12, 10, 12, 12, 16, 14],\n",
       " [9, 11, 11, 12, 12, 12, 12, 6, 4],\n",
       " [16, 9, 12, 6, 9, 10, 12, 13, 9],\n",
       " [10, 11, 9, 6, 7, 5, 4, 6, 9],\n",
       " [5, 7, 10, 13, 12, 11, 11, 9, 13]]"
      ]
     },
     "execution_count": 27,
     "metadata": {},
     "output_type": "execute_result"
    }
   ],
   "source": [
    "convolution_1d_x_axis"
   ]
  },
  {
   "cell_type": "code",
   "execution_count": 30,
   "metadata": {},
   "outputs": [
    {
     "name": "stdout",
     "output_type": "stream",
     "text": [
      "0\n",
      "1\n",
      "2\n",
      "3\n",
      "4\n",
      "5\n",
      "6\n",
      "7\n",
      "8\n"
     ]
    }
   ],
   "source": [
    "convolution_1d_y_axis = []\n",
    "for i in range(np.array(convolution_1d_x_axis).shape[1]):\n",
    "    print(i)\n",
    "    convolution_1d_y_axis.append(\n",
    "        [np.sum(kernel_1d * np.array(convolution_1d_x_axis)[:, i][j:j + len(kernel_1d)]) for j in range(num_kernel_1d_y_axis)])\n",
    "smooth_img = np.array(convolution_1d_y_axis)"
   ]
  },
  {
   "cell_type": "code",
   "execution_count": 31,
   "metadata": {},
   "outputs": [
    {
     "data": {
      "text/plain": [
       "[[15, 20, 19, 24, 19, 21],\n",
       " [17, 20, 21, 17, 22, 16],\n",
       " [21, 27, 22, 23, 20, 22],\n",
       " [25, 22, 24, 18, 18, 19],\n",
       " [20, 22, 20, 19, 19, 21],\n",
       " [22, 18, 23, 22, 17, 21],\n",
       " [14, 21, 15, 24, 16, 23],\n",
       " [17, 27, 14, 29, 12, 22],\n",
       " [15, 21, 6, 23, 13, 22]]"
      ]
     },
     "execution_count": 31,
     "metadata": {},
     "output_type": "execute_result"
    }
   ],
   "source": [
    "convolution_1d_y_axis"
   ]
  },
  {
   "cell_type": "code",
   "execution_count": null,
   "metadata": {},
   "outputs": [],
   "source": []
  },
  {
   "cell_type": "code",
   "execution_count": null,
   "metadata": {},
   "outputs": [],
   "source": []
  },
  {
   "cell_type": "code",
   "execution_count": null,
   "metadata": {},
   "outputs": [],
   "source": []
  },
  {
   "cell_type": "code",
   "execution_count": 32,
   "metadata": {},
   "outputs": [],
   "source": [
    "from scipy.signal import convolve2d as conv2"
   ]
  },
  {
   "cell_type": "code",
   "execution_count": 33,
   "metadata": {},
   "outputs": [
    {
     "ename": "ValueError",
     "evalue": "convolve2d inputs must both be 2D arrays",
     "output_type": "error",
     "traceback": [
      "\u001b[1;31m---------------------------------------------------------------------------\u001b[0m",
      "\u001b[1;31mValueError\u001b[0m                                Traceback (most recent call last)",
      "\u001b[1;32m<ipython-input-33-a9022f16cbad>\u001b[0m in \u001b[0;36m<module>\u001b[1;34m()\u001b[0m\n\u001b[1;32m----> 1\u001b[1;33m \u001b[0mout\u001b[0m \u001b[1;33m=\u001b[0m \u001b[0mconv2\u001b[0m\u001b[1;33m(\u001b[0m\u001b[0mtest\u001b[0m\u001b[1;33m[\u001b[0m\u001b[1;36m0\u001b[0m\u001b[1;33m,\u001b[0m \u001b[1;33m:\u001b[0m\u001b[1;33m]\u001b[0m\u001b[1;33m,\u001b[0m \u001b[0mkernel_1d\u001b[0m\u001b[1;33m)\u001b[0m\u001b[1;33m\u001b[0m\u001b[0m\n\u001b[0m",
      "\u001b[1;32m~\\Anaconda3\\lib\\site-packages\\scipy\\signal\\signaltools.py\u001b[0m in \u001b[0;36mconvolve2d\u001b[1;34m(in1, in2, mode, boundary, fillvalue)\u001b[0m\n\u001b[0;32m   1013\u001b[0m \u001b[1;33m\u001b[0m\u001b[0m\n\u001b[0;32m   1014\u001b[0m     \u001b[1;32mif\u001b[0m \u001b[1;32mnot\u001b[0m \u001b[0min1\u001b[0m\u001b[1;33m.\u001b[0m\u001b[0mndim\u001b[0m \u001b[1;33m==\u001b[0m \u001b[0min2\u001b[0m\u001b[1;33m.\u001b[0m\u001b[0mndim\u001b[0m \u001b[1;33m==\u001b[0m \u001b[1;36m2\u001b[0m\u001b[1;33m:\u001b[0m\u001b[1;33m\u001b[0m\u001b[0m\n\u001b[1;32m-> 1015\u001b[1;33m         \u001b[1;32mraise\u001b[0m \u001b[0mValueError\u001b[0m\u001b[1;33m(\u001b[0m\u001b[1;34m'convolve2d inputs must both be 2D arrays'\u001b[0m\u001b[1;33m)\u001b[0m\u001b[1;33m\u001b[0m\u001b[0m\n\u001b[0m\u001b[0;32m   1016\u001b[0m \u001b[1;33m\u001b[0m\u001b[0m\n\u001b[0;32m   1017\u001b[0m     \u001b[1;32mif\u001b[0m \u001b[0m_inputs_swap_needed\u001b[0m\u001b[1;33m(\u001b[0m\u001b[0mmode\u001b[0m\u001b[1;33m,\u001b[0m \u001b[0min1\u001b[0m\u001b[1;33m.\u001b[0m\u001b[0mshape\u001b[0m\u001b[1;33m,\u001b[0m \u001b[0min2\u001b[0m\u001b[1;33m.\u001b[0m\u001b[0mshape\u001b[0m\u001b[1;33m)\u001b[0m\u001b[1;33m:\u001b[0m\u001b[1;33m\u001b[0m\u001b[0m\n",
      "\u001b[1;31mValueError\u001b[0m: convolve2d inputs must both be 2D arrays"
     ]
    }
   ],
   "source": [
    "out = conv2(test[0, :], kernel_1d)"
   ]
  },
  {
   "cell_type": "code",
   "execution_count": 35,
   "metadata": {},
   "outputs": [],
   "source": [
    "kernel_1d_test = np.array([[1, 0, 1]])"
   ]
  },
  {
   "cell_type": "code",
   "execution_count": 36,
   "metadata": {},
   "outputs": [
    {
     "data": {
      "text/plain": [
       "array([1, 2, 4, 5, 6, 8, 6, 3, 5, 6, 8])"
      ]
     },
     "execution_count": 36,
     "metadata": {},
     "output_type": "execute_result"
    }
   ],
   "source": [
    "test[0, :]"
   ]
  },
  {
   "cell_type": "code",
   "execution_count": 37,
   "metadata": {},
   "outputs": [],
   "source": [
    "test_test = np.array([[1, 2, 4, 5, 6, 8, 6, 3, 5, 6, 8]])"
   ]
  },
  {
   "cell_type": "code",
   "execution_count": 38,
   "metadata": {},
   "outputs": [],
   "source": [
    "out = conv2(test_test, kernel_1d_test)"
   ]
  },
  {
   "cell_type": "code",
   "execution_count": 42,
   "metadata": {},
   "outputs": [
    {
     "data": {
      "text/plain": [
       "(1, 3)"
      ]
     },
     "execution_count": 42,
     "metadata": {},
     "output_type": "execute_result"
    }
   ],
   "source": [
    "kernel_1d_test.shape"
   ]
  },
  {
   "cell_type": "code",
   "execution_count": 43,
   "metadata": {},
   "outputs": [
    {
     "data": {
      "text/plain": [
       "array([[1, 0, 1]])"
      ]
     },
     "execution_count": 43,
     "metadata": {},
     "output_type": "execute_result"
    }
   ],
   "source": [
    "kernel_1d.reshape((1, 3))"
   ]
  },
  {
   "cell_type": "code",
   "execution_count": 44,
   "metadata": {},
   "outputs": [
    {
     "data": {
      "text/plain": [
       "array([1, 0, 1])"
      ]
     },
     "execution_count": 44,
     "metadata": {},
     "output_type": "execute_result"
    }
   ],
   "source": [
    "kernel_1d"
   ]
  },
  {
   "cell_type": "code",
   "execution_count": 45,
   "metadata": {},
   "outputs": [
    {
     "data": {
      "text/plain": [
       "array([[1, 2, 4, 5, 6, 8, 6, 3, 5, 6, 8],\n",
       "       [5, 4, 7, 8, 9, 2, 3, 4, 6, 7, 1],\n",
       "       [4, 2, 6, 8, 5, 4, 3, 7, 0, 1, 2],\n",
       "       [3, 1, 5, 7, 6, 5, 4, 7, 8, 9, 6],\n",
       "       [1, 7, 8, 4, 3, 8, 9, 4, 3, 2, 1],\n",
       "       [7, 5, 9, 4, 3, 2, 6, 8, 6, 5, 3],\n",
       "       [7, 9, 3, 2, 6, 4, 1, 1, 3, 5, 6],\n",
       "       [1, 2, 4, 5, 6, 8, 6, 3, 5, 6, 8]])"
      ]
     },
     "execution_count": 45,
     "metadata": {},
     "output_type": "execute_result"
    }
   ],
   "source": [
    "test"
   ]
  },
  {
   "cell_type": "code",
   "execution_count": 46,
   "metadata": {},
   "outputs": [
    {
     "data": {
      "text/plain": [
       "array([1, 0, 1])"
      ]
     },
     "execution_count": 46,
     "metadata": {},
     "output_type": "execute_result"
    }
   ],
   "source": [
    "kernel_1d"
   ]
  },
  {
   "cell_type": "code",
   "execution_count": 55,
   "metadata": {},
   "outputs": [
    {
     "name": "stdout",
     "output_type": "stream",
     "text": [
      "0\n",
      "1\n",
      "2\n",
      "3\n",
      "4\n",
      "5\n",
      "6\n",
      "7\n",
      "[[ 1  2  5  7 10 13 12 11 11  9 13  6  8]\n",
      " [ 5  4 12 12 16 10 12  6  9 11  7  7  1]\n",
      " [ 4  2 10 10 11 12  8 11  3  8  2  1  2]\n",
      " [ 3  1  8  8 11 12 10 12 12 16 14  9  6]\n",
      " [ 1  7  9 11 11 12 12 12 12  6  4  2  1]\n",
      " [ 7  5 16  9 12  6  9 10 12 13  9  5  3]\n",
      " [ 7  9 10 11  9  6  7  5  4  6  9  5  6]\n",
      " [ 1  2  5  7 10 13 12 11 11  9 13  6  8]]\n",
      "0\n",
      "1\n",
      "2\n",
      "3\n",
      "4\n",
      "5\n",
      "6\n",
      "7\n",
      "8\n",
      "9\n",
      "10\n",
      "11\n",
      "12\n",
      "[[ 1  2  5  7 10 13 12 11 11  9 13  6  8]\n",
      " [ 5  4 12 12 16 10 12  6  9 11  7  7  1]\n",
      " [ 5  4 15 17 21 25 20 22 14 17 15  7 10]\n",
      " [ 8  5 20 20 27 22 22 18 21 27 21 16  7]\n",
      " [ 5  9 19 21 22 24 20 23 15 14  6  3  3]\n",
      " [10  6 24 17 23 18 19 22 24 29 23 14  9]\n",
      " [ 8 16 19 22 20 18 19 17 16 12 13  7  7]\n",
      " [ 8  7 21 16 22 19 21 21 23 22 22 11 11]\n",
      " [ 7  9 10 11  9  6  7  5  4  6  9  5  6]\n",
      " [ 1  2  5  7 10 13 12 11 11  9 13  6  8]]\n"
     ]
    }
   ],
   "source": [
    "x_axis_convolution = []\n",
    "for i in range(test.shape[0]):\n",
    "    print(i)\n",
    "    x_axis_convolution.append(conv2(test[i].reshape((1, test.shape[1])), kernel_1d.reshape((1, len(kernel_1d))))[0].tolist())\n",
    "print(np.array(x_axis_convolution))\n",
    "y_axis_convolution = []\n",
    "for i in range(np.array(x_axis_convolution).shape[1]):\n",
    "    print(i)\n",
    "    y_axis_convolution.append(conv2(np.array(x_axis_convolution)[:, i].reshape((1, np.array(x_axis_convolution).shape[0])), kernel_1d.reshape((1, len(kernel_1d))))[0].tolist())\n",
    "print(np.array(y_axis_convolution).T)"
   ]
  },
  {
   "cell_type": "code",
   "execution_count": 52,
   "metadata": {},
   "outputs": [
    {
     "data": {
      "text/plain": [
       "array([1, 5, 4, 3, 1, 7, 7, 1])"
      ]
     },
     "execution_count": 52,
     "metadata": {},
     "output_type": "execute_result"
    }
   ],
   "source": [
    "test[:, 0]"
   ]
  },
  {
   "cell_type": "code",
   "execution_count": null,
   "metadata": {},
   "outputs": [],
   "source": []
  },
  {
   "cell_type": "code",
   "execution_count": null,
   "metadata": {},
   "outputs": [],
   "source": []
  },
  {
   "cell_type": "code",
   "execution_count": null,
   "metadata": {},
   "outputs": [],
   "source": []
  },
  {
   "cell_type": "code",
   "execution_count": null,
   "metadata": {},
   "outputs": [],
   "source": []
  },
  {
   "cell_type": "code",
   "execution_count": 4,
   "metadata": {},
   "outputs": [
    {
     "data": {
      "text/plain": [
       "array([[1, 2, 4, 5, 6, 8, 6, 3, 5, 6, 8],\n",
       "       [5, 4, 7, 8, 9, 2, 3, 4, 6, 7, 1],\n",
       "       [4, 2, 6, 8, 5, 4, 3, 7, 0, 1, 2],\n",
       "       [3, 1, 5, 7, 6, 5, 4, 7, 8, 9, 6],\n",
       "       [1, 7, 8, 4, 3, 8, 9, 4, 3, 2, 1],\n",
       "       [7, 5, 9, 4, 3, 2, 6, 8, 6, 5, 3],\n",
       "       [7, 9, 3, 2, 6, 4, 1, 1, 3, 5, 6],\n",
       "       [1, 2, 4, 5, 6, 8, 6, 3, 5, 6, 8]])"
      ]
     },
     "execution_count": 4,
     "metadata": {},
     "output_type": "execute_result"
    }
   ],
   "source": [
    "test"
   ]
  },
  {
   "cell_type": "code",
   "execution_count": 5,
   "metadata": {},
   "outputs": [],
   "source": [
    "bins = np.linspace(0, 10, 8)"
   ]
  },
  {
   "cell_type": "code",
   "execution_count": 6,
   "metadata": {},
   "outputs": [
    {
     "data": {
      "text/plain": [
       "array([ 0.        ,  1.42857143,  2.85714286,  4.28571429,  5.71428571,\n",
       "        7.14285714,  8.57142857, 10.        ])"
      ]
     },
     "execution_count": 6,
     "metadata": {},
     "output_type": "execute_result"
    }
   ],
   "source": [
    "bins"
   ]
  },
  {
   "cell_type": "code",
   "execution_count": 10,
   "metadata": {},
   "outputs": [],
   "source": [
    "indices = np.digitize(test, bins) - 1"
   ]
  },
  {
   "cell_type": "code",
   "execution_count": 11,
   "metadata": {},
   "outputs": [
    {
     "data": {
      "text/plain": [
       "array([[0, 1, 2, 3, 4, 5, 4, 2, 3, 4, 5],\n",
       "       [3, 2, 4, 5, 6, 1, 2, 2, 4, 4, 0],\n",
       "       [2, 1, 4, 5, 3, 2, 2, 4, 0, 0, 1],\n",
       "       [2, 0, 3, 4, 4, 3, 2, 4, 5, 6, 4],\n",
       "       [0, 4, 5, 2, 2, 5, 6, 2, 2, 1, 0],\n",
       "       [4, 3, 6, 2, 2, 1, 4, 5, 4, 3, 2],\n",
       "       [4, 6, 2, 1, 4, 2, 0, 0, 2, 3, 4],\n",
       "       [0, 1, 2, 3, 4, 5, 4, 2, 3, 4, 5]], dtype=int64)"
      ]
     },
     "execution_count": 11,
     "metadata": {},
     "output_type": "execute_result"
    }
   ],
   "source": [
    "indices"
   ]
  },
  {
   "cell_type": "code",
   "execution_count": 12,
   "metadata": {},
   "outputs": [],
   "source": [
    "from collections import Counter"
   ]
  },
  {
   "cell_type": "code",
   "execution_count": 16,
   "metadata": {},
   "outputs": [],
   "source": [
    "list_ = indices.tolist()"
   ]
  },
  {
   "cell_type": "code",
   "execution_count": 15,
   "metadata": {},
   "outputs": [
    {
     "data": {
      "text/plain": [
       "[[0, 1, 2, 3, 4, 5, 4, 2, 3, 4, 5],\n",
       " [3, 2, 4, 5, 6, 1, 2, 2, 4, 4, 0],\n",
       " [2, 1, 4, 5, 3, 2, 2, 4, 0, 0, 1],\n",
       " [2, 0, 3, 4, 4, 3, 2, 4, 5, 6, 4],\n",
       " [0, 4, 5, 2, 2, 5, 6, 2, 2, 1, 0],\n",
       " [4, 3, 6, 2, 2, 1, 4, 5, 4, 3, 2],\n",
       " [4, 6, 2, 1, 4, 2, 0, 0, 2, 3, 4],\n",
       " [0, 1, 2, 3, 4, 5, 4, 2, 3, 4, 5]]"
      ]
     },
     "execution_count": 15,
     "metadata": {},
     "output_type": "execute_result"
    }
   ],
   "source": [
    "indices.tolist()"
   ]
  },
  {
   "cell_type": "code",
   "execution_count": 17,
   "metadata": {},
   "outputs": [
    {
     "data": {
      "text/plain": [
       "[[0, 1, 2, 3, 4, 5, 4, 2, 3, 4, 5],\n",
       " [3, 2, 4, 5, 6, 1, 2, 2, 4, 4, 0],\n",
       " [2, 1, 4, 5, 3, 2, 2, 4, 0, 0, 1],\n",
       " [2, 0, 3, 4, 4, 3, 2, 4, 5, 6, 4],\n",
       " [0, 4, 5, 2, 2, 5, 6, 2, 2, 1, 0],\n",
       " [4, 3, 6, 2, 2, 1, 4, 5, 4, 3, 2],\n",
       " [4, 6, 2, 1, 4, 2, 0, 0, 2, 3, 4],\n",
       " [0, 1, 2, 3, 4, 5, 4, 2, 3, 4, 5]]"
      ]
     },
     "execution_count": 17,
     "metadata": {},
     "output_type": "execute_result"
    }
   ],
   "source": [
    "list_"
   ]
  },
  {
   "cell_type": "code",
   "execution_count": 19,
   "metadata": {},
   "outputs": [],
   "source": []
  },
  {
   "cell_type": "code",
   "execution_count": 20,
   "metadata": {},
   "outputs": [
    {
     "data": {
      "text/plain": [
       "array([[1, 4, 5, 6, 3, 4, 5, 6, 2, 3, 5, 6],\n",
       "       [6, 7, 9, 7, 5, 4, 3, 6, 7, 8, 9, 2]])"
      ]
     },
     "execution_count": 20,
     "metadata": {},
     "output_type": "execute_result"
    }
   ],
   "source": [
    "total"
   ]
  },
  {
   "cell_type": "code",
   "execution_count": 21,
   "metadata": {},
   "outputs": [],
   "source": [
    "total.sort()"
   ]
  },
  {
   "cell_type": "code",
   "execution_count": 22,
   "metadata": {},
   "outputs": [
    {
     "data": {
      "text/plain": [
       "array([[1, 2, 3, 3, 4, 4, 5, 5, 5, 6, 6, 6],\n",
       "       [2, 3, 4, 5, 6, 6, 7, 7, 7, 8, 9, 9]])"
      ]
     },
     "execution_count": 22,
     "metadata": {},
     "output_type": "execute_result"
    }
   ],
   "source": [
    "total"
   ]
  },
  {
   "cell_type": "code",
   "execution_count": 23,
   "metadata": {},
   "outputs": [],
   "source": []
  },
  {
   "cell_type": "code",
   "execution_count": 24,
   "metadata": {},
   "outputs": [
    {
     "data": {
      "text/plain": [
       "array([ 0.        ,  1.42857143,  2.85714286,  4.28571429,  5.71428571,\n",
       "        7.14285714,  8.57142857, 10.        ])"
      ]
     },
     "execution_count": 24,
     "metadata": {},
     "output_type": "execute_result"
    }
   ],
   "source": [
    "bins"
   ]
  },
  {
   "cell_type": "code",
   "execution_count": 30,
   "metadata": {},
   "outputs": [
    {
     "name": "stdout",
     "output_type": "stream",
     "text": [
      "[1, 2, 2, 3, 3, 3, 4, 4, 4, 5, 5, 5, 5, 6, 6, 6, 6, 6, 7, 7, 7, 8, 9, 9]\n",
      "[0, 0, 0, 0, 0, 0, 0, 0]\n",
      "[1, 1, 6, 4, 8, 1, 2, 1]\n"
     ]
    }
   ],
   "source": [
    "total = np.array([[1, 4, 5, 6, 3, 4, 5, 6, 2, 3, 5, 6], [6, 7, 9, 7, 5, 4, 3, 6, 7, 8, 9, 2]])\n",
    "bins = np.linspace(0, 10, 8)\n",
    "total = sum(total.tolist(), [])\n",
    "total.sort()\n",
    "print(total)\n",
    "hist = [0] * 8\n",
    "print(hist)\n",
    "position = 1\n",
    "for i in range(len(total)):\n",
    "    if total[i] <= bins[position]:\n",
    "        hist[position - 1] += 1\n",
    "    else:\n",
    "        position += 1\n",
    "        hist[position] += 1\n",
    "print(hist)"
   ]
  },
  {
   "cell_type": "code",
   "execution_count": 1,
   "metadata": {},
   "outputs": [
    {
     "ename": "NameError",
     "evalue": "name 'test' is not defined",
     "output_type": "error",
     "traceback": [
      "\u001b[1;31m---------------------------------------------------------------------------\u001b[0m",
      "\u001b[1;31mNameError\u001b[0m                                 Traceback (most recent call last)",
      "\u001b[1;32m<ipython-input-1-4e1243bd22c6>\u001b[0m in \u001b[0;36m<module>\u001b[1;34m()\u001b[0m\n\u001b[1;32m----> 1\u001b[1;33m \u001b[0mtest\u001b[0m\u001b[1;33m\u001b[0m\u001b[0m\n\u001b[0m",
      "\u001b[1;31mNameError\u001b[0m: name 'test' is not defined"
     ]
    }
   ],
   "source": [
    "test"
   ]
  },
  {
   "cell_type": "code",
   "execution_count": 5,
   "metadata": {},
   "outputs": [],
   "source": [
    "num_bins = 5"
   ]
  },
  {
   "cell_type": "code",
   "execution_count": 6,
   "metadata": {},
   "outputs": [],
   "source": [
    "hist1, bins1 = np.histogram(test.reshape(test.size), num_bins)"
   ]
  },
  {
   "cell_type": "code",
   "execution_count": 16,
   "metadata": {},
   "outputs": [
    {
     "data": {
      "text/plain": [
       "array([0. , 1.8, 3.6, 5.4, 7.2, 9. ])"
      ]
     },
     "execution_count": 16,
     "metadata": {},
     "output_type": "execute_result"
    }
   ],
   "source": [
    "bins"
   ]
  },
  {
   "cell_type": "code",
   "execution_count": 15,
   "metadata": {},
   "outputs": [
    {
     "data": {
      "text/plain": [
       "array([0, 1, 1, 1, 1, 1, 1, 1, 1, 1, 2, 2, 2, 2, 2, 2, 2, 2, 3, 3, 3, 3,\n",
       "       3, 3, 3, 3, 3, 3, 3, 4, 4, 4, 4, 4, 4, 4, 4, 4, 4, 4, 5, 5, 5, 5,\n",
       "       5, 5, 5, 5, 5, 5, 5, 6, 6, 6, 6, 6, 6, 6, 6, 6, 6, 6, 6, 6, 6, 7,\n",
       "       7, 7, 7, 7, 7, 7, 7, 8, 8, 8, 8, 8, 8, 8, 8, 8, 8, 9, 9, 9, 9, 9])"
      ]
     },
     "execution_count": 15,
     "metadata": {},
     "output_type": "execute_result"
    }
   ],
   "source": [
    "test"
   ]
  },
  {
   "cell_type": "code",
   "execution_count": 27,
   "metadata": {},
   "outputs": [],
   "source": [
    "bins = np.linspace(0, 9, num_bins + 1)\n",
    "# Unnest array and sort\n",
    "test = np.sort(test.reshape(test.size))\n",
    "# Set empty list to complete histogram\n",
    "hists = [0] * num_bins\n",
    "position = 1\n",
    "for i in range(len(test)):\n",
    "    if test[i] <= bins[position]:\n",
    "        hists[position - 1] += 1\n",
    "    else:\n",
    "        while test[i] >= bins[position]:\n",
    "            position += 1\n",
    "        hists[position - 1] += 1"
   ]
  },
  {
   "cell_type": "code",
   "execution_count": 28,
   "metadata": {},
   "outputs": [
    {
     "data": {
      "text/plain": [
       "[10, 19, 22, 22, 15]"
      ]
     },
     "execution_count": 28,
     "metadata": {},
     "output_type": "execute_result"
    }
   ],
   "source": [
    "hists"
   ]
  },
  {
   "cell_type": "code",
   "execution_count": 29,
   "metadata": {},
   "outputs": [
    {
     "data": {
      "text/plain": [
       "array([10, 19, 22, 22, 15], dtype=int64)"
      ]
     },
     "execution_count": 29,
     "metadata": {},
     "output_type": "execute_result"
    }
   ],
   "source": [
    "hist1"
   ]
  },
  {
   "cell_type": "code",
   "execution_count": null,
   "metadata": {},
   "outputs": [],
   "source": []
  }
 ],
 "metadata": {
  "kernelspec": {
   "display_name": "Python 3",
   "language": "python",
   "name": "python3"
  },
  "language_info": {
   "codemirror_mode": {
    "name": "ipython",
    "version": 3
   },
   "file_extension": ".py",
   "mimetype": "text/x-python",
   "name": "python",
   "nbconvert_exporter": "python",
   "pygments_lexer": "ipython3",
   "version": "3.6.4"
  }
 },
 "nbformat": 4,
 "nbformat_minor": 2
}
